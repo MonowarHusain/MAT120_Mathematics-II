{
  "nbformat": 4,
  "nbformat_minor": 0,
  "metadata": {
    "colab": {
      "provenance": [],
      "include_colab_link": true
    },
    "kernelspec": {
      "name": "python3",
      "display_name": "Python 3"
    },
    "language_info": {
      "name": "python"
    }
  },
  "cells": [
    {
      "cell_type": "markdown",
      "metadata": {
        "id": "view-in-github",
        "colab_type": "text"
      },
      "source": [
        "<a href=\"https://colab.research.google.com/github/MonowarHusain/MAT120_Mathematics-II/blob/main/FALL22/LAB%20TASK/LAB%2002/22301098_Monowar_Husain_sec13_assignment_2.ipynb\" target=\"_parent\"><img src=\"https://colab.research.google.com/assets/colab-badge.svg\" alt=\"Open In Colab\"/></a>"
      ]
    },
    {
      "cell_type": "code",
      "execution_count": null,
      "metadata": {
        "colab": {
          "base_uri": "https://localhost:8080/",
          "height": 127
        },
        "id": "vufi2XMyPe7D",
        "outputId": "6525480d-b902-4b0b-ced1-4995e9d5137a"
      },
      "outputs": [
        {
          "output_type": "execute_result",
          "data": {
            "text/plain": [
              "Piecewise((0, Eq(a, 0) & Eq(b, 0)), (-I*(x*exp(-b*x)*sinh(b*x)/2 + x*exp(-b*x)*cosh(b*x)/2 - exp(-b*x)*sinh(b*x)/(2*b)), Eq(a, -I*b)), (I*(x*exp(-b*x)*sinh(b*x)/2 + x*exp(-b*x)*cosh(b*x)/2 - exp(-b*x)*sinh(b*x)/(2*b)), Eq(a, I*b)), (-a*cos(a*x)/(a**2*exp(b*x) + b**2*exp(b*x)) - b*sin(a*x)/(a**2*exp(b*x) + b**2*exp(b*x)), True))"
            ],
            "text/latex": "$\\displaystyle \\begin{cases} 0 & \\text{for}\\: a = 0 \\wedge b = 0 \\\\- i \\left(\\frac{x e^{- b x} \\sinh{\\left(b x \\right)}}{2} + \\frac{x e^{- b x} \\cosh{\\left(b x \\right)}}{2} - \\frac{e^{- b x} \\sinh{\\left(b x \\right)}}{2 b}\\right) & \\text{for}\\: a = - i b \\\\i \\left(\\frac{x e^{- b x} \\sinh{\\left(b x \\right)}}{2} + \\frac{x e^{- b x} \\cosh{\\left(b x \\right)}}{2} - \\frac{e^{- b x} \\sinh{\\left(b x \\right)}}{2 b}\\right) & \\text{for}\\: a = i b \\\\- \\frac{a \\cos{\\left(a x \\right)}}{a^{2} e^{b x} + b^{2} e^{b x}} - \\frac{b \\sin{\\left(a x \\right)}}{a^{2} e^{b x} + b^{2} e^{b x}} & \\text{otherwise} \\end{cases}$"
          },
          "metadata": {},
          "execution_count": 1
        }
      ],
      "source": [
        "#1\n",
        "from sympy import*\n",
        "x = symbols('x')\n",
        "a = symbols('a')\n",
        "b = symbols('b')\n",
        "f = sin(a*x)*exp(-b*x)\n",
        "integrate(f,x)"
      ]
    },
    {
      "cell_type": "code",
      "source": [
        "#2 X\n",
        "from sympy import*\n",
        "x = symbols('x')\n",
        "f = 1/((sin(2*x))*(1+x**2))\n",
        "integrate(f,(x,0,oo))"
      ],
      "metadata": {
        "colab": {
          "base_uri": "https://localhost:8080/",
          "height": 77
        },
        "id": "NTXnIneuPoeq",
        "outputId": "092e9b18-394c-428f-fb1d-054b160344d7"
      },
      "execution_count": null,
      "outputs": [
        {
          "output_type": "execute_result",
          "data": {
            "text/plain": [
              "Integral(1/((x**2 + 1)*sin(2*x)), (x, 0, oo))"
            ],
            "text/latex": "$\\displaystyle \\int\\limits_{0}^{\\infty} \\frac{1}{\\left(x^{2} + 1\\right) \\sin{\\left(2 x \\right)}}\\, dx$"
          },
          "metadata": {},
          "execution_count": 28
        }
      ]
    },
    {
      "cell_type": "code",
      "source": [
        "#2\n",
        "import numpy as np\n",
        "import scipy as scipy\n",
        "from scipy.integrate import quad\n",
        "f = lambda x: 1/((np.sin(2*x)))*((1+x**2))\n",
        "quad(f,0,np.inf)"
      ],
      "metadata": {
        "colab": {
          "base_uri": "https://localhost:8080/"
        },
        "id": "tUCgNsHdPqJK",
        "outputId": "42a4e363-9301-4a58-cc95-0030579e3775"
      },
      "execution_count": null,
      "outputs": [
        {
          "output_type": "stream",
          "name": "stderr",
          "text": [
            "/usr/local/lib/python3.7/dist-packages/ipykernel_launcher.py:6: IntegrationWarning: The maximum number of subdivisions (50) has been achieved.\n",
            "  If increasing the limit yields no improvement it is advised to analyze \n",
            "  the integrand in order to determine the difficulties.  If the position of a \n",
            "  local difficulty can be determined (singularity, discontinuity) one will \n",
            "  probably gain from splitting up the interval and calling the integrator \n",
            "  on the subranges.  Perhaps a special-purpose integrator should be used.\n",
            "  \n"
          ]
        },
        {
          "output_type": "execute_result",
          "data": {
            "text/plain": [
              "(9.264109994962248e+17, 1.836658679572714e+18)"
            ]
          },
          "metadata": {},
          "execution_count": 29
        }
      ]
    },
    {
      "cell_type": "code",
      "source": [
        "#3\n",
        "import numpy as np\n",
        "import scipy as scipy\n",
        "from scipy.integrate import quad\n",
        "f = lambda x: 1/ (a-(cos(x)))**2 + (b-sin(x))**2\n",
        "a,b=1,0\n",
        "quad(f,0,2*pi)"
      ],
      "metadata": {
        "colab": {
          "base_uri": "https://localhost:8080/"
        },
        "id": "2LH6ukLTPt8w",
        "outputId": "5f012a39-4f82-49c1-e33d-c5531bd40eac"
      },
      "execution_count": null,
      "outputs": [
        {
          "output_type": "stream",
          "name": "stderr",
          "text": [
            "/usr/local/lib/python3.7/dist-packages/ipykernel_launcher.py:7: IntegrationWarning: The algorithm does not converge.  Roundoff error is detected\n",
            "  in the extrapolation table.  It is assumed that the requested tolerance\n",
            "  cannot be achieved, and that the returned result (if full_output = 1) is \n",
            "  the best which can be obtained.\n",
            "  import sys\n"
          ]
        },
        {
          "output_type": "execute_result",
          "data": {
            "text/plain": [
              "(1.869447116090329e+19, 3.708768898406355e+19)"
            ]
          },
          "metadata": {},
          "execution_count": 4
        }
      ]
    },
    {
      "cell_type": "code",
      "source": [
        "#4\n",
        "import numpy as np\n",
        "import scipy as scipy\n",
        "from scipy.integrate import quad\n",
        "f = lambda x: 1/((np.cos(2*x)))*((1+x**2))\n",
        "quad(f,0,np.inf)"
      ],
      "metadata": {
        "colab": {
          "base_uri": "https://localhost:8080/"
        },
        "id": "F4gYkec23YCL",
        "outputId": "65cd4209-2910-4d77-b419-2356ef8ef308"
      },
      "execution_count": null,
      "outputs": [
        {
          "output_type": "stream",
          "name": "stderr",
          "text": [
            "/usr/local/lib/python3.7/dist-packages/ipykernel_launcher.py:6: IntegrationWarning: The maximum number of subdivisions (50) has been achieved.\n",
            "  If increasing the limit yields no improvement it is advised to analyze \n",
            "  the integrand in order to determine the difficulties.  If the position of a \n",
            "  local difficulty can be determined (singularity, discontinuity) one will \n",
            "  probably gain from splitting up the interval and calling the integrator \n",
            "  on the subranges.  Perhaps a special-purpose integrator should be used.\n",
            "  \n"
          ]
        },
        {
          "output_type": "execute_result",
          "data": {
            "text/plain": [
              "(-2.884832229799713e+17, 6.171672011824466e+17)"
            ]
          },
          "metadata": {},
          "execution_count": 30
        }
      ]
    },
    {
      "cell_type": "code",
      "source": [
        "#5\n",
        "from sympy import*\n",
        "x = symbols('x')\n",
        "f = x*exp(6*x)\n",
        "integrate(f,(x,-1,2))"
      ],
      "metadata": {
        "colab": {
          "base_uri": "https://localhost:8080/",
          "height": 54
        },
        "id": "3gy88aFqPw6g",
        "outputId": "ee21f4bd-7687-4a38-bbab-403f4e85709b"
      },
      "execution_count": null,
      "outputs": [
        {
          "output_type": "execute_result",
          "data": {
            "text/plain": [
              "7*exp(-6)/36 + 11*exp(12)/36"
            ],
            "text/latex": "$\\displaystyle \\frac{7}{36 e^{6}} + \\frac{11 e^{12}}{36}$"
          },
          "metadata": {},
          "execution_count": 6
        }
      ]
    }
  ]
}