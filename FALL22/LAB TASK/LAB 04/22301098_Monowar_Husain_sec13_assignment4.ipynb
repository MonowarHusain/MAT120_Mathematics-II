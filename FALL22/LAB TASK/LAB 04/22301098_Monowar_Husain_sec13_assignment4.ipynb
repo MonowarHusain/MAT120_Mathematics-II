{
  "nbformat": 4,
  "nbformat_minor": 0,
  "metadata": {
    "colab": {
      "provenance": [],
      "include_colab_link": true
    },
    "kernelspec": {
      "name": "python3",
      "display_name": "Python 3"
    },
    "language_info": {
      "name": "python"
    }
  },
  "cells": [
    {
      "cell_type": "markdown",
      "metadata": {
        "id": "view-in-github",
        "colab_type": "text"
      },
      "source": [
        "<a href=\"https://colab.research.google.com/github/MonowarHusain/MAT120_Mathematics-II/blob/main/FALL22/LAB%20TASK/LAB%2004/22301098_Monowar_Husain_sec13_assignment4.ipynb\" target=\"_parent\"><img src=\"https://colab.research.google.com/assets/colab-badge.svg\" alt=\"Open In Colab\"/></a>"
      ]
    },
    {
      "cell_type": "code",
      "execution_count": null,
      "metadata": {
        "colab": {
          "base_uri": "https://localhost:8080/"
        },
        "id": "6Aa6H-0zvqAC",
        "outputId": "bffabcd1-7340-474d-afc6-9d6d3afcc61a"
      },
      "outputs": [
        {
          "output_type": "stream",
          "name": "stdout",
          "text": [
            "y(x) = C₁⋅sin(4⋅x) + C₂⋅cos(4⋅x)\n"
          ]
        }
      ],
      "source": [
        "#task 01\n",
        "from sympy import*\n",
        "init_printing()\n",
        "x = symbols('x')\n",
        "y = Function('y')\n",
        "y1 = Derivative(y(x),x)\n",
        "y2 = Derivative(y(x),x,x)\n",
        "eq = y2 +16*y(x)\n",
        "sol = dsolve(eq,y(x))\n",
        "pprint(sol)"
      ]
    },
    {
      "cell_type": "code",
      "source": [
        "#task2\n",
        "from sympy import*\n",
        "init_printing()\n",
        "x = symbols('x')\n",
        "y = Function('y')\n",
        "y1 = Derivative(y(x),x)\n",
        "y2 = Derivative(y(x),x,x)\n",
        "eq = y2 -6*y1 + 5*y(x)\n",
        "sol = dsolve(eq,y(x))\n",
        "pprint(sol)"
      ],
      "metadata": {
        "colab": {
          "base_uri": "https://localhost:8080/"
        },
        "id": "VGvxs4vBvyA1",
        "outputId": "d6b83e82-ecd6-463f-e163-915517b98f6f"
      },
      "execution_count": null,
      "outputs": [
        {
          "output_type": "stream",
          "name": "stdout",
          "text": [
            "       ⎛         4⋅x⎞  x\n",
            "y(x) = ⎝C₁ + C₂⋅ℯ   ⎠⋅ℯ \n"
          ]
        }
      ]
    },
    {
      "cell_type": "code",
      "source": [
        "#task 3\n",
        "from sympy import*\n",
        "init_printing()\n",
        "x = symbols('x')\n",
        "y = Function('y')\n",
        "y1 = Derivative(y(x),x)\n",
        "y2 = Derivative(y(x),x,x)\n",
        "eq = y2 - y1 + 6*y(x)\n",
        "sol = dsolve(eq,y(x),ics={y(0):1,y(x).diff(x).subs(x,0):0})\n",
        "pprint(sol)"
      ],
      "metadata": {
        "colab": {
          "base_uri": "https://localhost:8080/"
        },
        "id": "bbFwMEkPvz9v",
        "outputId": "d992ea64-5bf2-40ab-d1f9-535b16c5b572"
      },
      "execution_count": null,
      "outputs": [
        {
          "output_type": "stream",
          "name": "stdout",
          "text": [
            "       ⎛         ⎛√23⋅x⎞             ⎞  x\n",
            "       ⎜  √23⋅sin⎜─────⎟             ⎟  ─\n",
            "       ⎜         ⎝  2  ⎠      ⎛√23⋅x⎞⎟  2\n",
            "y(x) = ⎜- ────────────── + cos⎜─────⎟⎟⋅ℯ \n",
            "       ⎝        23            ⎝  2  ⎠⎠   \n"
          ]
        }
      ]
    }
  ]
}